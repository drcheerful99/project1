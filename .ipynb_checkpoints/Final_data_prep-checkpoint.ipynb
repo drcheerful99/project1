{
 "cells": [
  {
   "cell_type": "code",
   "execution_count": 1,
   "metadata": {},
   "outputs": [],
   "source": [
    "#import dependencies\n",
    "import pandas as pd\n",
    "from datetime import datetime\n",
    "import datetime as dt"
   ]
  },
  {
   "cell_type": "code",
   "execution_count": 2,
   "metadata": {},
   "outputs": [],
   "source": [
    "#call up tsa data\n",
    "tsa_data=\"Resources/tsa_data.csv\"\n",
    "tsa = pd.read_csv(tsa_data)\n",
    "#change date formatting for consistency\n",
    "tsa['Date']=pd.to_datetime(tsa['Date'].astype(str), format='%m/%d/%Y')\n",
    "#changed numbers into floats\n",
    "tsa[\"Total Traveler Throughput 2020\"] = tsa[\"Total Traveler Throughput 2020\"].str.replace(',','')\n",
    "tsa[\"Total Traveler Throughput 2020\"] = tsa[\"Total Traveler Throughput 2020\"].astype(float)\n",
    "tsa[\"Total Traveler Throughput 2019\"] = tsa[\"Total Traveler Throughput 2019\"].str.replace(',','')\n",
    "tsa[\"Total Traveler Throughput 2019\"] = tsa[\"Total Traveler Throughput 2019\"].astype(float)"
   ]
  },
  {
   "cell_type": "code",
   "execution_count": 3,
   "metadata": {},
   "outputs": [],
   "source": [
    "#prepare tsa file for merge with NYT data\n",
    "passenger_numbers_2020 = tsa.loc[:,[\"Date\",\"Total Traveler Throughput 2020\"]]"
   ]
  },
  {
   "cell_type": "code",
   "execution_count": 4,
   "metadata": {},
   "outputs": [],
   "source": [
    "#change date to number string\n",
    "numbered_tsa = passenger_numbers_2020\n",
    "numbered_tsa[\"Date\"]=numbered_tsa[\"Date\"].astype(str)\n",
    "numbered_tsa['Date']=numbered_tsa['Date'].str.replace('-','')\n",
    "numbered_tsa['Date']=numbered_tsa['Date'].astype(float)\n",
    "#limited dates to match with those from nyt dataset\n",
    "numbered_tsa = numbered_tsa.loc[numbered_tsa[\"Date\"]<20200729]"
   ]
  },
  {
   "cell_type": "code",
   "execution_count": 5,
   "metadata": {},
   "outputs": [],
   "source": [
    "#load and setup NYT data into dataframe\n",
    "nyt_data=\"Resources/covid_19_state_level_data.csv\"\n",
    "nyt = pd.read_csv(nyt_data) "
   ]
  },
  {
   "cell_type": "code",
   "execution_count": 6,
   "metadata": {},
   "outputs": [],
   "source": [
    "#edit nyt data to only include relevant info\n",
    "curated_nyt = nyt.loc[:,[\"date\",\"state\",\"cases\"]]\n",
    "curated_nyt = curated_nyt.rename(columns={\"date\":\"Date\"})"
   ]
  },
  {
   "cell_type": "code",
   "execution_count": 7,
   "metadata": {},
   "outputs": [],
   "source": [
    "#change date into float\n",
    "numbered_nyt = curated_nyt\n",
    "numbered_nyt[\"DateFormat\"]=numbered_nyt[\"Date\"]\n",
    "numbered_nyt[\"DateFormat\"]=numbered_nyt[\"DateFormat\"].apply(lambda x:\n",
    "                                             dt.datetime.strptime(x,'%Y-%m-%d'))\n",
    "numbered_nyt['Date']=numbered_nyt['Date'].str.replace('-','')\n",
    "numbered_nyt['Date']=numbered_nyt['Date'].astype(float)"
   ]
  },
  {
   "cell_type": "code",
   "execution_count": 8,
   "metadata": {},
   "outputs": [],
   "source": [
    "#set up nyt dates to match tsa dates\n",
    "tsa_numbered_nyt = numbered_nyt.loc[numbered_nyt[\"Date\"]>20200230]"
   ]
  },
  {
   "cell_type": "code",
   "execution_count": 9,
   "metadata": {},
   "outputs": [
    {
     "name": "stderr",
     "output_type": "stream",
     "text": [
      "C:\\Users\\jekor\\anaconda3\\envs\\PythonData\\lib\\site-packages\\ipykernel_launcher.py:2: SettingWithCopyWarning: \n",
      "A value is trying to be set on a copy of a slice from a DataFrame.\n",
      "Try using .loc[row_indexer,col_indexer] = value instead\n",
      "\n",
      "See the caveats in the documentation: https://pandas.pydata.org/pandas-docs/stable/user_guide/indexing.html#returning-a-view-versus-a-copy\n",
      "  \n"
     ]
    }
   ],
   "source": [
    "#group by state to get total case number for comparison and make new column of sums\n",
    "tsa_numbered_nyt[\"Total Cases\"] = tsa_numbered_nyt.groupby([\"Date\"])[\"cases\"].transform(\"sum\")\n",
    "#make a new dataframe of just date and total cases and drop duplicates\n",
    "nyt_nationwide = tsa_numbered_nyt.loc[:,[\"Date\",\"DateFormat\",\"Total Cases\"]]\n",
    "nyt_nationwide = nyt_nationwide.drop_duplicates()\n",
    "#Make a new column of rate of change in total cases using .diff\n",
    "nyt_nationwide[\"Case Rate of Change\"]= nyt_nationwide[\"Total Cases\"].diff()"
   ]
  },
  {
   "cell_type": "code",
   "execution_count": 10,
   "metadata": {},
   "outputs": [],
   "source": [
    "combined_total_data = pd.merge(numbered_tsa,nyt_nationwide, how=\"left\",on=\"Date\")\n",
    "correlation_total_data = combined_total_data.loc[:,[\"Total Traveler Throughput 2020\",\"Total Cases\"]]\n",
    "for i in range(-30,31):\n",
    "    correlation_total_data[i]=correlation_total_data[\"Total Cases\"].shift(i)"
   ]
  },
  {
   "cell_type": "code",
   "execution_count": 11,
   "metadata": {},
   "outputs": [
    {
     "name": "stderr",
     "output_type": "stream",
     "text": [
      "C:\\Users\\jekor\\anaconda3\\envs\\PythonData\\lib\\site-packages\\ipykernel_launcher.py:3: SettingWithCopyWarning: \n",
      "A value is trying to be set on a copy of a slice from a DataFrame.\n",
      "Try using .loc[row_indexer,col_indexer] = value instead\n",
      "\n",
      "See the caveats in the documentation: https://pandas.pydata.org/pandas-docs/stable/user_guide/indexing.html#returning-a-view-versus-a-copy\n",
      "  This is separate from the ipykernel package so we can avoid doing imports until\n",
      "C:\\Users\\jekor\\anaconda3\\envs\\PythonData\\lib\\site-packages\\ipykernel_launcher.py:5: SettingWithCopyWarning: \n",
      "A value is trying to be set on a copy of a slice from a DataFrame.\n",
      "Try using .loc[row_indexer,col_indexer] = value instead\n",
      "\n",
      "See the caveats in the documentation: https://pandas.pydata.org/pandas-docs/stable/user_guide/indexing.html#returning-a-view-versus-a-copy\n",
      "  \"\"\"\n",
      "C:\\Users\\jekor\\anaconda3\\envs\\PythonData\\lib\\site-packages\\ipykernel_launcher.py:7: SettingWithCopyWarning: \n",
      "A value is trying to be set on a copy of a slice from a DataFrame.\n",
      "Try using .loc[row_indexer,col_indexer] = value instead\n",
      "\n",
      "See the caveats in the documentation: https://pandas.pydata.org/pandas-docs/stable/user_guide/indexing.html#returning-a-view-versus-a-copy\n",
      "  import sys\n",
      "C:\\Users\\jekor\\anaconda3\\envs\\PythonData\\lib\\site-packages\\ipykernel_launcher.py:9: SettingWithCopyWarning: \n",
      "A value is trying to be set on a copy of a slice from a DataFrame.\n",
      "Try using .loc[row_indexer,col_indexer] = value instead\n",
      "\n",
      "See the caveats in the documentation: https://pandas.pydata.org/pandas-docs/stable/user_guide/indexing.html#returning-a-view-versus-a-copy\n",
      "  if __name__ == '__main__':\n"
     ]
    }
   ],
   "source": [
    "#make individual state dataframes for Georgia, California, Massachusetts, and Texas\n",
    "California = curated_nyt.loc[curated_nyt[\"state\"]==\"California\"]\n",
    "California[\"Case Rate of Change\"]= California[\"cases\"].diff()\n",
    "Georgia = curated_nyt.loc[curated_nyt[\"state\"]==\"Georgia\"]\n",
    "Georgia[\"Case Rate of Change\"]= Georgia[\"cases\"].diff()\n",
    "Massachusetts = curated_nyt.loc[curated_nyt[\"state\"]==\"Massachusetts\"]\n",
    "Massachusetts[\"Case Rate of Change\"]= Massachusetts[\"cases\"].diff()\n",
    "Texas = curated_nyt.loc[curated_nyt[\"state\"]==\"Texas\"]\n",
    "Texas[\"Case Rate of Change\"]= Texas[\"cases\"].diff()"
   ]
  },
  {
   "cell_type": "code",
   "execution_count": 12,
   "metadata": {},
   "outputs": [],
   "source": [
    "airport_data = \"Resources/covid_impact_on_airport_traffic.csv\"\n",
    "airport = pd.read_csv(airport_data)"
   ]
  },
  {
   "cell_type": "code",
   "execution_count": 13,
   "metadata": {},
   "outputs": [],
   "source": [
    "#remove not relevant columns from airport data\n",
    "us_airport_data = airport[airport[\"Country\"]==\"United States of America (the)\"]"
   ]
  },
  {
   "cell_type": "code",
   "execution_count": 14,
   "metadata": {},
   "outputs": [],
   "source": [
    "#continue removing not relevant columns\n",
    "curated_airport_data = us_airport_data.loc[:,[\"Date\",\"AirportName\",\"State\",\"PercentOfBaseline\"]]"
   ]
  },
  {
   "cell_type": "code",
   "execution_count": 15,
   "metadata": {},
   "outputs": [],
   "source": [
    "curated_airport_data['DateFormat']=curated_airport_data['Date']\n",
    "curated_airport_data[\"DateFormat\"]=curated_airport_data[\"DateFormat\"].apply(lambda x:\n",
    "                                             dt.datetime.strptime(x,'%Y-%m-%d'))\n",
    "curated_airport_data['Date']=curated_airport_data['Date'].str.replace('-','')\n",
    "curated_airport_data['Date']=curated_airport_data['Date'].astype(float)"
   ]
  },
  {
   "cell_type": "code",
   "execution_count": 16,
   "metadata": {},
   "outputs": [],
   "source": [
    "curated_airport_data=curated_airport_data.sort_values(by=[\"Date\"])"
   ]
  },
  {
   "cell_type": "code",
   "execution_count": 17,
   "metadata": {},
   "outputs": [],
   "source": [
    "#test airport df\n",
    "LAX = curated_airport_data.loc[curated_airport_data[\"AirportName\"]==\"Los Angeles International\"]"
   ]
  },
  {
   "cell_type": "code",
   "execution_count": 18,
   "metadata": {},
   "outputs": [],
   "source": [
    "#create rest of airport dfs\n",
    "SFO = curated_airport_data.loc[curated_airport_data[\"AirportName\"]==\"San Francisco International\"]\n",
    "BOS =  curated_airport_data.loc[curated_airport_data[\"State\"]==\"Massachusetts\"]\n",
    "ATL =  curated_airport_data.loc[curated_airport_data[\"State\"]==\"Georgia\"]\n",
    "DFW =  curated_airport_data.loc[curated_airport_data[\"State\"]==\"Texas\"]"
   ]
  },
  {
   "cell_type": "code",
   "execution_count": 19,
   "metadata": {},
   "outputs": [],
   "source": [
    "#test with 1 airport and city for combined data set\n",
    "LAXCA = pd.merge(California,LAX,how=\"inner\",on=\"Date\")"
   ]
  },
  {
   "cell_type": "code",
   "execution_count": 20,
   "metadata": {},
   "outputs": [],
   "source": [
    "#finish rest of airport city merges\n",
    "SFOCA = pd.merge(California,SFO,how=\"inner\",on=\"Date\")\n",
    "BOSMA = pd.merge(Massachusetts,BOS,how=\"inner\",on=\"Date\")\n",
    "ATLGA = pd.merge(Georgia,ATL,how=\"inner\",on=\"Date\")\n",
    "DFWTX = pd.merge(Texas,DFW,how=\"inner\",on=\"Date\")"
   ]
  }
 ],
 "metadata": {
  "kernelspec": {
   "display_name": "Python 3",
   "language": "python",
   "name": "python3"
  },
  "language_info": {
   "codemirror_mode": {
    "name": "ipython",
    "version": 3
   },
   "file_extension": ".py",
   "mimetype": "text/x-python",
   "name": "python",
   "nbconvert_exporter": "python",
   "pygments_lexer": "ipython3",
   "version": "3.6.10"
  }
 },
 "nbformat": 4,
 "nbformat_minor": 4
}
