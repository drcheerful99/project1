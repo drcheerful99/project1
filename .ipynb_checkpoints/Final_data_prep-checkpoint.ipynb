{
 "cells": [
  {
   "cell_type": "code",
   "execution_count": 22,
   "metadata": {},
   "outputs": [],
   "source": [
    "#import dependencies\n",
    "import pandas as pd\n",
    "from datetime import datetime\n",
    "import datetime as dt\n",
    "import matplotlib.pyplot as plt"
   ]
  },
  {
   "cell_type": "code",
   "execution_count": 2,
   "metadata": {},
   "outputs": [],
   "source": [
    "#call up tsa data\n",
    "tsa_data=\"Resources/tsa_data.csv\"\n",
    "tsa = pd.read_csv(tsa_data)\n",
    "#change date formatting for consistency\n",
    "tsa['Date']=pd.to_datetime(tsa['Date'].astype(str), format='%m/%d/%Y')\n",
    "#changed numbers into floats\n",
    "tsa[\"Total Traveler Throughput 2020\"] = tsa[\"Total Traveler Throughput 2020\"].str.replace(',','')\n",
    "tsa[\"Total Traveler Throughput 2020\"] = tsa[\"Total Traveler Throughput 2020\"].astype(float)\n",
    "tsa[\"Total Traveler Throughput 2019\"] = tsa[\"Total Traveler Throughput 2019\"].str.replace(',','')\n",
    "tsa[\"Total Traveler Throughput 2019\"] = tsa[\"Total Traveler Throughput 2019\"].astype(float)\n",
    "#reduce variance by using rolling mean for traveler numbers\n",
    "tsa['Average 2019'] = tsa.iloc[:,2].rolling(window=7).mean()\n",
    "tsa['Average 2020'] = tsa.iloc[:,1].rolling(window=7).mean()\n"
   ]
  },
  {
   "cell_type": "code",
   "execution_count": 3,
   "metadata": {},
   "outputs": [],
   "source": [
    "#prepare tsa file for merge with NYT data\n",
    "passenger_numbers_2020 = tsa.loc[:,[\"Date\",\"Total Traveler Throughput 2020\"]]"
   ]
  },
  {
   "cell_type": "code",
   "execution_count": 4,
   "metadata": {},
   "outputs": [],
   "source": [
    "#change date to number string\n",
    "numbered_tsa = passenger_numbers_2020\n",
    "numbered_tsa[\"Date\"]=numbered_tsa[\"Date\"].astype(str)\n",
    "numbered_tsa['Date']=numbered_tsa['Date'].str.replace('-','')\n",
    "numbered_tsa['Date']=numbered_tsa['Date'].astype(float)\n",
    "#limited dates to match with those from nyt dataset\n",
    "numbered_tsa = numbered_tsa.loc[numbered_tsa[\"Date\"]<20200729]"
   ]
  },
  {
   "cell_type": "code",
   "execution_count": 5,
   "metadata": {},
   "outputs": [],
   "source": [
    "#load and setup NYT data into dataframe\n",
    "nyt_data=\"Resources/covid_19_state_level_data.csv\"\n",
    "nyt = pd.read_csv(nyt_data) "
   ]
  },
  {
   "cell_type": "code",
   "execution_count": 6,
   "metadata": {},
   "outputs": [],
   "source": [
    "#edit nyt data to only include relevant info\n",
    "curated_nyt = nyt.loc[:,[\"date\",\"state\",\"cases\"]]\n",
    "curated_nyt = curated_nyt.rename(columns={\"date\":\"Date\"})"
   ]
  },
  {
   "cell_type": "code",
   "execution_count": 7,
   "metadata": {},
   "outputs": [],
   "source": [
    "#change date into float\n",
    "numbered_nyt = curated_nyt\n",
    "numbered_nyt[\"DateFormat\"]=numbered_nyt[\"Date\"]\n",
    "numbered_nyt[\"DateFormat\"]=numbered_nyt[\"DateFormat\"].apply(lambda x:\n",
    "                                             dt.datetime.strptime(x,'%Y-%m-%d'))\n",
    "numbered_nyt['Date']=numbered_nyt['Date'].str.replace('-','')\n",
    "numbered_nyt['Date']=numbered_nyt['Date'].astype(float)"
   ]
  },
  {
   "cell_type": "code",
   "execution_count": 8,
   "metadata": {},
   "outputs": [],
   "source": [
    "#set up nyt dates to match tsa dates\n",
    "tsa_numbered_nyt = numbered_nyt.loc[numbered_nyt[\"Date\"]>20200230]"
   ]
  },
  {
   "cell_type": "code",
   "execution_count": 9,
   "metadata": {},
   "outputs": [
    {
     "name": "stderr",
     "output_type": "stream",
     "text": [
      "C:\\Users\\jekor\\anaconda3\\envs\\PythonData\\lib\\site-packages\\ipykernel_launcher.py:2: SettingWithCopyWarning: \n",
      "A value is trying to be set on a copy of a slice from a DataFrame.\n",
      "Try using .loc[row_indexer,col_indexer] = value instead\n",
      "\n",
      "See the caveats in the documentation: https://pandas.pydata.org/pandas-docs/stable/user_guide/indexing.html#returning-a-view-versus-a-copy\n",
      "  \n"
     ]
    }
   ],
   "source": [
    "#group by state to get total case number for comparison and make new column of sums\n",
    "tsa_numbered_nyt[\"Total Cases\"] = tsa_numbered_nyt.groupby([\"Date\"])[\"cases\"].transform(\"sum\")\n",
    "#make a new dataframe of just date and total cases and drop duplicates\n",
    "nyt_nationwide = tsa_numbered_nyt.loc[:,[\"Date\",\"DateFormat\",\"Total Cases\"]]\n",
    "nyt_nationwide = nyt_nationwide.drop_duplicates()\n",
    "#Make a new column of rate of change in total cases using .diff\n",
    "nyt_nationwide[\"Case Rate of Change\"]= nyt_nationwide[\"Total Cases\"].diff()\n",
    "nyt_nationwide['Averaged Rate of Change'] = nyt_nationwide.iloc[:,2].rolling(window=7).mean()"
   ]
  },
  {
   "cell_type": "code",
   "execution_count": 10,
   "metadata": {},
   "outputs": [],
   "source": [
    "combined_total_data = pd.merge(numbered_tsa,nyt_nationwide, how=\"left\",on=\"Date\")\n",
    "correlation_total_data = combined_total_data.loc[:,[\"Total Traveler Throughput 2020\",\"Averaged Rate of Change\"]]\n",
    "for i in range(-30,31):\n",
    "    correlation_total_data[i]=correlation_total_data[\"Averaged Rate of Change\"].shift(i)"
   ]
  },
  {
   "cell_type": "code",
   "execution_count": 11,
   "metadata": {},
   "outputs": [
    {
     "name": "stderr",
     "output_type": "stream",
     "text": [
      "C:\\Users\\jekor\\anaconda3\\envs\\PythonData\\lib\\site-packages\\ipykernel_launcher.py:3: SettingWithCopyWarning: \n",
      "A value is trying to be set on a copy of a slice from a DataFrame.\n",
      "Try using .loc[row_indexer,col_indexer] = value instead\n",
      "\n",
      "See the caveats in the documentation: https://pandas.pydata.org/pandas-docs/stable/user_guide/indexing.html#returning-a-view-versus-a-copy\n",
      "  This is separate from the ipykernel package so we can avoid doing imports until\n",
      "C:\\Users\\jekor\\anaconda3\\envs\\PythonData\\lib\\site-packages\\ipykernel_launcher.py:5: SettingWithCopyWarning: \n",
      "A value is trying to be set on a copy of a slice from a DataFrame.\n",
      "Try using .loc[row_indexer,col_indexer] = value instead\n",
      "\n",
      "See the caveats in the documentation: https://pandas.pydata.org/pandas-docs/stable/user_guide/indexing.html#returning-a-view-versus-a-copy\n",
      "  \"\"\"\n",
      "C:\\Users\\jekor\\anaconda3\\envs\\PythonData\\lib\\site-packages\\ipykernel_launcher.py:7: SettingWithCopyWarning: \n",
      "A value is trying to be set on a copy of a slice from a DataFrame.\n",
      "Try using .loc[row_indexer,col_indexer] = value instead\n",
      "\n",
      "See the caveats in the documentation: https://pandas.pydata.org/pandas-docs/stable/user_guide/indexing.html#returning-a-view-versus-a-copy\n",
      "  import sys\n",
      "C:\\Users\\jekor\\anaconda3\\envs\\PythonData\\lib\\site-packages\\ipykernel_launcher.py:9: SettingWithCopyWarning: \n",
      "A value is trying to be set on a copy of a slice from a DataFrame.\n",
      "Try using .loc[row_indexer,col_indexer] = value instead\n",
      "\n",
      "See the caveats in the documentation: https://pandas.pydata.org/pandas-docs/stable/user_guide/indexing.html#returning-a-view-versus-a-copy\n",
      "  if __name__ == '__main__':\n"
     ]
    }
   ],
   "source": [
    "#make individual state dataframes for Georgia, California, Massachusetts, and Texas\n",
    "#also create Case rate of change columns for all states\n",
    "California = curated_nyt.loc[curated_nyt[\"state\"]==\"California\"]\n",
    "California[\"Case Rate of Change\"]= California[\"cases\"].diff()\n",
    "California['Averaged Rate of Change'] = nyt_nationwide.iloc[:,4].rolling(window=7).mean()\n",
    "Georgia = curated_nyt.loc[curated_nyt[\"state\"]==\"Georgia\"]\n",
    "Georgia[\"Case Rate of Change\"]= Georgia[\"cases\"].diff()\n",
    "Georgia['Averaged Rate of Change'] = nyt_nationwide.iloc[:,4].rolling(window=7).mean()\n",
    "Massachusetts = curated_nyt.loc[curated_nyt[\"state\"]==\"Massachusetts\"]\n",
    "Massachusetts[\"Case Rate of Change\"]= Massachusetts[\"cases\"].diff()\n",
    "Massachusetts['Averaged Rate of Change'] = nyt_nationwide.iloc[:,4].rolling(window=7).mean()\n",
    "Texas = curated_nyt.loc[curated_nyt[\"state\"]==\"Texas\"]\n",
    "Texas[\"Case Rate of Change\"]= Texas[\"cases\"].diff()\n",
    "Texas['Averaged Rate of Change'] = nyt_nationwide.iloc[:,4].rolling(window=7).mean()"
   ]
  },
  {
   "cell_type": "code",
   "execution_count": 12,
   "metadata": {},
   "outputs": [],
   "source": [
    "airport_data = \"Resources/covid_impact_on_airport_traffic.csv\"\n",
    "airport = pd.read_csv(airport_data)"
   ]
  },
  {
   "cell_type": "code",
   "execution_count": 13,
   "metadata": {},
   "outputs": [],
   "source": [
    "#remove not relevant columns from airport data\n",
    "us_airport_data = airport[airport[\"Country\"]==\"United States of America (the)\"]"
   ]
  },
  {
   "cell_type": "code",
   "execution_count": 14,
   "metadata": {},
   "outputs": [],
   "source": [
    "#continue removing not relevant columns\n",
    "curated_airport_data = us_airport_data.loc[:,[\"Date\",\"AirportName\",\"State\",\"PercentOfBaseline\"]]"
   ]
  },
  {
   "cell_type": "code",
   "execution_count": 46,
   "metadata": {},
   "outputs": [
    {
     "ename": "TypeError",
     "evalue": "strptime() argument 1 must be str, not float",
     "output_type": "error",
     "traceback": [
      "\u001b[1;31m---------------------------------------------------------------------------\u001b[0m",
      "\u001b[1;31mTypeError\u001b[0m                                 Traceback (most recent call last)",
      "\u001b[1;32m<ipython-input-46-5a9c747b43be>\u001b[0m in \u001b[0;36m<module>\u001b[1;34m\u001b[0m\n\u001b[0;32m      1\u001b[0m \u001b[1;31m#create new column for date with datetime format\u001b[0m\u001b[1;33m\u001b[0m\u001b[1;33m\u001b[0m\u001b[1;33m\u001b[0m\u001b[0m\n\u001b[0;32m      2\u001b[0m \u001b[0mcurated_airport_data\u001b[0m\u001b[1;33m[\u001b[0m\u001b[1;34m'DateFormat'\u001b[0m\u001b[1;33m]\u001b[0m\u001b[1;33m=\u001b[0m\u001b[0mcurated_airport_data\u001b[0m\u001b[1;33m[\u001b[0m\u001b[1;34m'Date'\u001b[0m\u001b[1;33m]\u001b[0m\u001b[1;33m\u001b[0m\u001b[1;33m\u001b[0m\u001b[0m\n\u001b[1;32m----> 3\u001b[1;33m curated_airport_data[\"DateFormat\"]=curated_airport_data[\"DateFormat\"].apply(lambda x:\n\u001b[0m\u001b[0;32m      4\u001b[0m                                              dt.datetime.strptime(x,'%Y-%m-%d'))\n\u001b[0;32m      5\u001b[0m \u001b[1;31m#set date column as number\u001b[0m\u001b[1;33m\u001b[0m\u001b[1;33m\u001b[0m\u001b[1;33m\u001b[0m\u001b[0m\n",
      "\u001b[1;32m~\\anaconda3\\envs\\PythonData\\lib\\site-packages\\pandas\\core\\series.py\u001b[0m in \u001b[0;36mapply\u001b[1;34m(self, func, convert_dtype, args, **kwds)\u001b[0m\n\u001b[0;32m   3846\u001b[0m             \u001b[1;32melse\u001b[0m\u001b[1;33m:\u001b[0m\u001b[1;33m\u001b[0m\u001b[1;33m\u001b[0m\u001b[0m\n\u001b[0;32m   3847\u001b[0m                 \u001b[0mvalues\u001b[0m \u001b[1;33m=\u001b[0m \u001b[0mself\u001b[0m\u001b[1;33m.\u001b[0m\u001b[0mastype\u001b[0m\u001b[1;33m(\u001b[0m\u001b[0mobject\u001b[0m\u001b[1;33m)\u001b[0m\u001b[1;33m.\u001b[0m\u001b[0mvalues\u001b[0m\u001b[1;33m\u001b[0m\u001b[1;33m\u001b[0m\u001b[0m\n\u001b[1;32m-> 3848\u001b[1;33m                 \u001b[0mmapped\u001b[0m \u001b[1;33m=\u001b[0m \u001b[0mlib\u001b[0m\u001b[1;33m.\u001b[0m\u001b[0mmap_infer\u001b[0m\u001b[1;33m(\u001b[0m\u001b[0mvalues\u001b[0m\u001b[1;33m,\u001b[0m \u001b[0mf\u001b[0m\u001b[1;33m,\u001b[0m \u001b[0mconvert\u001b[0m\u001b[1;33m=\u001b[0m\u001b[0mconvert_dtype\u001b[0m\u001b[1;33m)\u001b[0m\u001b[1;33m\u001b[0m\u001b[1;33m\u001b[0m\u001b[0m\n\u001b[0m\u001b[0;32m   3849\u001b[0m \u001b[1;33m\u001b[0m\u001b[0m\n\u001b[0;32m   3850\u001b[0m         \u001b[1;32mif\u001b[0m \u001b[0mlen\u001b[0m\u001b[1;33m(\u001b[0m\u001b[0mmapped\u001b[0m\u001b[1;33m)\u001b[0m \u001b[1;32mand\u001b[0m \u001b[0misinstance\u001b[0m\u001b[1;33m(\u001b[0m\u001b[0mmapped\u001b[0m\u001b[1;33m[\u001b[0m\u001b[1;36m0\u001b[0m\u001b[1;33m]\u001b[0m\u001b[1;33m,\u001b[0m \u001b[0mSeries\u001b[0m\u001b[1;33m)\u001b[0m\u001b[1;33m:\u001b[0m\u001b[1;33m\u001b[0m\u001b[1;33m\u001b[0m\u001b[0m\n",
      "\u001b[1;32mpandas\\_libs\\lib.pyx\u001b[0m in \u001b[0;36mpandas._libs.lib.map_infer\u001b[1;34m()\u001b[0m\n",
      "\u001b[1;32m<ipython-input-46-5a9c747b43be>\u001b[0m in \u001b[0;36m<lambda>\u001b[1;34m(x)\u001b[0m\n\u001b[0;32m      2\u001b[0m \u001b[0mcurated_airport_data\u001b[0m\u001b[1;33m[\u001b[0m\u001b[1;34m'DateFormat'\u001b[0m\u001b[1;33m]\u001b[0m\u001b[1;33m=\u001b[0m\u001b[0mcurated_airport_data\u001b[0m\u001b[1;33m[\u001b[0m\u001b[1;34m'Date'\u001b[0m\u001b[1;33m]\u001b[0m\u001b[1;33m\u001b[0m\u001b[1;33m\u001b[0m\u001b[0m\n\u001b[0;32m      3\u001b[0m curated_airport_data[\"DateFormat\"]=curated_airport_data[\"DateFormat\"].apply(lambda x:\n\u001b[1;32m----> 4\u001b[1;33m                                              dt.datetime.strptime(x,'%Y-%m-%d'))\n\u001b[0m\u001b[0;32m      5\u001b[0m \u001b[1;31m#set date column as number\u001b[0m\u001b[1;33m\u001b[0m\u001b[1;33m\u001b[0m\u001b[1;33m\u001b[0m\u001b[0m\n\u001b[0;32m      6\u001b[0m \u001b[0mcurated_airport_data\u001b[0m\u001b[1;33m[\u001b[0m\u001b[1;34m'Date'\u001b[0m\u001b[1;33m]\u001b[0m\u001b[1;33m=\u001b[0m\u001b[0mcurated_airport_data\u001b[0m\u001b[1;33m[\u001b[0m\u001b[1;34m'Date'\u001b[0m\u001b[1;33m]\u001b[0m\u001b[1;33m.\u001b[0m\u001b[0mstr\u001b[0m\u001b[1;33m.\u001b[0m\u001b[0mreplace\u001b[0m\u001b[1;33m(\u001b[0m\u001b[1;34m'-'\u001b[0m\u001b[1;33m,\u001b[0m\u001b[1;34m''\u001b[0m\u001b[1;33m)\u001b[0m\u001b[1;33m\u001b[0m\u001b[1;33m\u001b[0m\u001b[0m\n",
      "\u001b[1;31mTypeError\u001b[0m: strptime() argument 1 must be str, not float"
     ]
    }
   ],
   "source": [
    "#create new column for date with datetime format\n",
    "curated_airport_data['DateFormat']=curated_airport_data['Date']\n",
    "curated_airport_data[\"DateFormat\"]=curated_airport_data[\"DateFormat\"].apply(lambda x:\n",
    "                                             dt.datetime.strptime(x,'%Y-%m-%d'))\n",
    "#set date column as number\n",
    "curated_airport_data['Date']=curated_airport_data['Date'].str.replace('-','')\n",
    "curated_airport_data['Date']=curated_airport_data['Date'].astype(float)"
   ]
  },
  {
   "cell_type": "code",
   "execution_count": 16,
   "metadata": {},
   "outputs": [],
   "source": [
    "curated_airport_data=curated_airport_data.sort_values(by=[\"Date\"])"
   ]
  },
  {
   "cell_type": "code",
   "execution_count": 17,
   "metadata": {},
   "outputs": [],
   "source": [
    "#test airport df\n",
    "LAX = curated_airport_data.loc[curated_airport_data[\"AirportName\"]==\"Los Angeles International\"]\n",
    "LAX['Averaged POB'] = nyt_nationwide.iloc[:,3].rolling(window=7).mean()"
   ]
  },
  {
   "cell_type": "code",
   "execution_count": 18,
   "metadata": {},
   "outputs": [],
   "source": [
    "#create rest of airport dfs\n",
    "SFO = curated_airport_data.loc[curated_airport_data[\"AirportName\"]==\"San Francisco International\"]\n",
    "SFO['Averaged POB'] = nyt_nationwide.iloc[:,3].rolling(window=7).mean()\n",
    "BOS =  curated_airport_data.loc[curated_airport_data[\"State\"]==\"Massachusetts\"]\n",
    "BOS['Averaged POB'] = nyt_nationwide.iloc[:,3].rolling(window=7).mean()\n",
    "ATL =  curated_airport_data.loc[curated_airport_data[\"State\"]==\"Georgia\"]\n",
    "ATL['Averaged POB'] = nyt_nationwide.iloc[:,3].rolling(window=7).mean()\n",
    "DFW =  curated_airport_data.loc[curated_airport_data[\"State\"]==\"Texas\"]\n",
    "DFW['Averaged POB'] = nyt_nationwide.iloc[:,3].rolling(window=7).mean()"
   ]
  },
  {
   "cell_type": "code",
   "execution_count": 19,
   "metadata": {},
   "outputs": [],
   "source": [
    "#test with 1 airport and city for combined data set\n",
    "LAXCA = pd.merge(California,LAX,how=\"inner\",on=\"Date\")"
   ]
  },
  {
   "cell_type": "code",
   "execution_count": 20,
   "metadata": {},
   "outputs": [],
   "source": [
    "#finish rest of airport city merges\n",
    "SFOCA = pd.merge(California,SFO,how=\"inner\",on=\"Date\")\n",
    "BOSMA = pd.merge(Massachusetts,BOS,how=\"inner\",on=\"Date\")\n",
    "ATLGA = pd.merge(Georgia,ATL,how=\"inner\",on=\"Date\")\n",
    "DFWTX = pd.merge(Texas,DFW,how=\"inner\",on=\"Date\")"
   ]
  },
  {
   "cell_type": "code",
   "execution_count": 47,
   "metadata": {},
   "outputs": [
    {
     "data": {
      "text/html": [
       "<div>\n",
       "<style scoped>\n",
       "    .dataframe tbody tr th:only-of-type {\n",
       "        vertical-align: middle;\n",
       "    }\n",
       "\n",
       "    .dataframe tbody tr th {\n",
       "        vertical-align: top;\n",
       "    }\n",
       "\n",
       "    .dataframe thead th {\n",
       "        text-align: right;\n",
       "    }\n",
       "</style>\n",
       "<table border=\"1\" class=\"dataframe\">\n",
       "  <thead>\n",
       "    <tr style=\"text-align: right;\">\n",
       "      <th></th>\n",
       "      <th>Date</th>\n",
       "      <th>AirportName</th>\n",
       "      <th>State</th>\n",
       "      <th>PercentOfBaseline</th>\n",
       "      <th>DateFormat</th>\n",
       "    </tr>\n",
       "  </thead>\n",
       "  <tbody>\n",
       "    <tr>\n",
       "      <th>2405</th>\n",
       "      <td>20200316.0</td>\n",
       "      <td>Los Angeles International</td>\n",
       "      <td>California</td>\n",
       "      <td>98</td>\n",
       "      <td>2020-03-16</td>\n",
       "    </tr>\n",
       "    <tr>\n",
       "      <th>2416</th>\n",
       "      <td>20200317.0</td>\n",
       "      <td>Los Angeles International</td>\n",
       "      <td>California</td>\n",
       "      <td>99</td>\n",
       "      <td>2020-03-17</td>\n",
       "    </tr>\n",
       "    <tr>\n",
       "      <th>2497</th>\n",
       "      <td>20200318.0</td>\n",
       "      <td>Los Angeles International</td>\n",
       "      <td>California</td>\n",
       "      <td>89</td>\n",
       "      <td>2020-03-18</td>\n",
       "    </tr>\n",
       "    <tr>\n",
       "      <th>2441</th>\n",
       "      <td>20200319.0</td>\n",
       "      <td>Los Angeles International</td>\n",
       "      <td>California</td>\n",
       "      <td>88</td>\n",
       "      <td>2020-03-19</td>\n",
       "    </tr>\n",
       "    <tr>\n",
       "      <th>2329</th>\n",
       "      <td>20200320.0</td>\n",
       "      <td>Los Angeles International</td>\n",
       "      <td>California</td>\n",
       "      <td>84</td>\n",
       "      <td>2020-03-20</td>\n",
       "    </tr>\n",
       "  </tbody>\n",
       "</table>\n",
       "</div>"
      ],
      "text/plain": [
       "            Date                AirportName       State  PercentOfBaseline  \\\n",
       "2405  20200316.0  Los Angeles International  California                 98   \n",
       "2416  20200317.0  Los Angeles International  California                 99   \n",
       "2497  20200318.0  Los Angeles International  California                 89   \n",
       "2441  20200319.0  Los Angeles International  California                 88   \n",
       "2329  20200320.0  Los Angeles International  California                 84   \n",
       "\n",
       "     DateFormat  \n",
       "2405 2020-03-16  \n",
       "2416 2020-03-17  \n",
       "2497 2020-03-18  \n",
       "2441 2020-03-19  \n",
       "2329 2020-03-20  "
      ]
     },
     "execution_count": 47,
     "metadata": {},
     "output_type": "execute_result"
    }
   ],
   "source": [
    "LAX.head()"
   ]
  },
  {
   "cell_type": "code",
   "execution_count": null,
   "metadata": {},
   "outputs": [],
   "source": []
  }
 ],
 "metadata": {
  "kernelspec": {
   "display_name": "Python 3",
   "language": "python",
   "name": "python3"
  },
  "language_info": {
   "codemirror_mode": {
    "name": "ipython",
    "version": 3
   },
   "file_extension": ".py",
   "mimetype": "text/x-python",
   "name": "python",
   "nbconvert_exporter": "python",
   "pygments_lexer": "ipython3",
   "version": "3.6.10"
  }
 },
 "nbformat": 4,
 "nbformat_minor": 4
}
