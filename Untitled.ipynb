{
<<<<<<< HEAD
 "cells": [
  {
   "cell_type": "code",
   "execution_count": 2,
   "metadata": {},
   "outputs": [],
   "source": [
    "import pandas as pd\n",
    "import matplotlib.pyplot as plt\n"
   ]
  },
  {
   "cell_type": "code",
   "execution_count": 3,
   "metadata": {
    "scrolled": true
   },
   "outputs": [
    {
     "data": {
      "text/html": [
       "<div>\n",
       "<style scoped>\n",
       "    .dataframe tbody tr th:only-of-type {\n",
       "        vertical-align: middle;\n",
       "    }\n",
       "\n",
       "    .dataframe tbody tr th {\n",
       "        vertical-align: top;\n",
       "    }\n",
       "\n",
       "    .dataframe thead th {\n",
       "        text-align: right;\n",
       "    }\n",
       "</style>\n",
       "<table border=\"1\" class=\"dataframe\">\n",
       "  <thead>\n",
       "    <tr style=\"text-align: right;\">\n",
       "      <th></th>\n",
       "      <th>Date</th>\n",
       "      <th>total_travlers</th>\n",
       "      <th>total_travlers_19</th>\n",
       "    </tr>\n",
       "  </thead>\n",
       "  <tbody>\n",
       "    <tr>\n",
       "      <th>0</th>\n",
       "      <td>12/2/2020</td>\n",
       "      <td>632,356</td>\n",
       "      <td>2,054,380</td>\n",
       "    </tr>\n",
       "    <tr>\n",
       "      <th>1</th>\n",
       "      <td>12/1/2020</td>\n",
       "      <td>780,283</td>\n",
       "      <td>2,280,403</td>\n",
       "    </tr>\n",
       "    <tr>\n",
       "      <th>2</th>\n",
       "      <td>11/30/2020</td>\n",
       "      <td>981,912</td>\n",
       "      <td>2,591,470</td>\n",
       "    </tr>\n",
       "    <tr>\n",
       "      <th>3</th>\n",
       "      <td>11/29/2020</td>\n",
       "      <td>1,176,091</td>\n",
       "      <td>2,882,915</td>\n",
       "    </tr>\n",
       "    <tr>\n",
       "      <th>4</th>\n",
       "      <td>11/28/2020</td>\n",
       "      <td>964,630</td>\n",
       "      <td>2,648,268</td>\n",
       "    </tr>\n",
       "  </tbody>\n",
       "</table>\n",
       "</div>"
      ],
      "text/plain": [
       "         Date total_travlers total_travlers_19\n",
       "0   12/2/2020        632,356         2,054,380\n",
       "1   12/1/2020        780,283         2,280,403\n",
       "2  11/30/2020        981,912         2,591,470\n",
       "3  11/29/2020      1,176,091         2,882,915\n",
       "4  11/28/2020        964,630         2,648,268"
      ]
     },
     "execution_count": 3,
     "metadata": {},
     "output_type": "execute_result"
    }
   ],
   "source": [
    "filepath = \"Resources/travelers.csv\"\n",
    "data = pd.read_csv(filepath)\n",
    "data.head()\n",
    "# x_axis = data['Date']\n",
    "# y_axis = data['total_travlers']"
   ]
  },
  {
   "cell_type": "code",
   "execution_count": 10,
   "metadata": {},
   "outputs": [
    {
     "data": {
      "image/png": "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\n",
      "text/plain": [
       "<Figure size 432x288 with 1 Axes>"
      ]
     },
     "metadata": {
      "needs_background": "light"
     },
     "output_type": "display_data"
    }
   ],
   "source": [
    "plt.bar(data['Date'], data['total_travlers'])\n",
    "plt.show()"
   ]
  }
 ],
 "metadata": {
  "kernelspec": {
   "display_name": "Python 3",
   "language": "python",
   "name": "python3"
  },
  "language_info": {
   "codemirror_mode": {
    "name": "ipython",
    "version": 3
   },
   "file_extension": ".py",
   "mimetype": "text/x-python",
   "name": "python",
   "nbconvert_exporter": "python",
   "pygments_lexer": "ipython3",
   "version": "3.8.3"
  }
 },
=======
 "cells": [],
 "metadata": {},
>>>>>>> 246f401d7957e7baafe30dac66063da36d3a6130
 "nbformat": 4,
 "nbformat_minor": 4
}
